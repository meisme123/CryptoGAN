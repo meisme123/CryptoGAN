{
 "cells": [
  {
   "cell_type": "code",
   "execution_count": 1,
   "metadata": {},
   "outputs": [
    {
     "ename": "ImportError",
     "evalue": "DLL load failed: The specified procedure could not be found.",
     "output_type": "error",
     "traceback": [
      "\u001b[1;31m---------------------------------------------------------------------------\u001b[0m",
      "\u001b[1;31mImportError\u001b[0m                               Traceback (most recent call last)",
      "\u001b[1;32m<ipython-input-1-d301d637965e>\u001b[0m in \u001b[0;36m<module>\u001b[1;34m\u001b[0m\n\u001b[0;32m      1\u001b[0m \u001b[1;31m# %%\u001b[0m\u001b[1;33m\u001b[0m\u001b[1;33m\u001b[0m\u001b[0m\n\u001b[1;32m----> 2\u001b[1;33m \u001b[1;32mimport\u001b[0m \u001b[0mtorch\u001b[0m\u001b[1;33m\u001b[0m\u001b[0m\n\u001b[0m\u001b[0;32m      3\u001b[0m \u001b[1;32mimport\u001b[0m \u001b[0mtorch\u001b[0m\u001b[1;33m.\u001b[0m\u001b[0mnn\u001b[0m \u001b[1;32mas\u001b[0m \u001b[0mnn\u001b[0m\u001b[1;33m\u001b[0m\u001b[0m\n\u001b[0;32m      4\u001b[0m \u001b[1;32mimport\u001b[0m \u001b[0mtorch\u001b[0m\u001b[1;33m.\u001b[0m\u001b[0mnn\u001b[0m\u001b[1;33m.\u001b[0m\u001b[0mfunctional\u001b[0m \u001b[1;32mas\u001b[0m \u001b[0mF\u001b[0m\u001b[1;33m\u001b[0m\u001b[0m\n\u001b[0;32m      5\u001b[0m \u001b[1;33m\u001b[0m\u001b[0m\n",
      "\u001b[1;32mc:\\users\\user\\appdata\\local\\programs\\python\\python36\\lib\\site-packages\\torch\\__init__.py\u001b[0m in \u001b[0;36m<module>\u001b[1;34m\u001b[0m\n\u001b[0;32m     79\u001b[0m \u001b[1;32mdel\u001b[0m \u001b[0m_dl_flags\u001b[0m\u001b[1;33m\u001b[0m\u001b[0m\n\u001b[0;32m     80\u001b[0m \u001b[1;33m\u001b[0m\u001b[0m\n\u001b[1;32m---> 81\u001b[1;33m \u001b[1;32mfrom\u001b[0m \u001b[0mtorch\u001b[0m\u001b[1;33m.\u001b[0m\u001b[0m_C\u001b[0m \u001b[1;32mimport\u001b[0m \u001b[1;33m*\u001b[0m\u001b[1;33m\u001b[0m\u001b[0m\n\u001b[0m\u001b[0;32m     82\u001b[0m \u001b[1;33m\u001b[0m\u001b[0m\n\u001b[0;32m     83\u001b[0m __all__ += [name for name in dir(_C)\n",
      "\u001b[1;31mImportError\u001b[0m: DLL load failed: The specified procedure could not be found."
     ]
    }
   ],
   "source": [
    "# %%\n",
    "import torch\n",
    "import torch.nn as nn\n",
    "import torch.nn.functional as F\n",
    "\n",
    "import matplotlib.pyplot as plt\n",
    "import matplotlib.animation as animation\n",
    "from matplotlib import style\n",
    "\n",
    "style.use('fivethirtyeight')"
   ]
  },
  {
   "cell_type": "code",
   "execution_count": null,
   "metadata": {},
   "outputs": [],
   "source": [
    "# %%\n",
    "KEY = '1234'\n",
    "\n",
    "PLAIN = [ [x/17 for x in range(0, 16)] for i in range(20) ]\n",
    "\n",
    "# %%"
   ]
  },
  {
   "cell_type": "code",
   "execution_count": null,
   "metadata": {},
   "outputs": [],
   "source": [
    "def DenseBlock(shape):\n",
    "  block = []\n",
    "  for i in range(len(shape) - 1):\n",
    "    block.append(nn.Linear(in_features=shape[i], out_features=shape[i + 1]))\n",
    "\n",
    "  return block\n",
    "\n",
    "# %%"
   ]
  },
  {
   "cell_type": "code",
   "execution_count": null,
   "metadata": {},
   "outputs": [],
   "source": [
    "class Sender(nn.Module):\n",
    "  def __init__(self):\n",
    "    super(Sender, self).__init__()\n",
    "\n",
    "    self.in_block = nn.Sequential(\n",
    "      *DenseBlock((16, 32, 32, 64, 16))\n",
    "    )\n",
    "\n",
    "  def forward(self, inputs):\n",
    "    inputs = self.in_block(inputs)\n",
    "    inputs = F.relu(inputs)\n",
    "\n",
    "    inputs = F.sigmoid(inputs)\n",
    "    return inputs\n",
    "\n",
    "\n",
    "class Receiver(nn.Module):\n",
    "  def __init__(self):\n",
    "    super(Receiver, self).__init__()\n",
    "\n",
    "    self.in_block = nn.Sequential(\n",
    "      *DenseBlock((16, 32, 32, 64, 16))\n",
    "    )\n",
    "\n",
    "  def forward(self, inputs):\n",
    "    inputs = self.in_block(inputs)\n",
    "    inputs = F.relu(inputs)\n",
    "\n",
    "    inputs = F.sigmoid(inputs)\n",
    "    return inputs\n",
    "\n",
    "# %%"
   ]
  },
  {
   "cell_type": "code",
   "execution_count": null,
   "metadata": {},
   "outputs": [],
   "source": [
    "alice = Sender()\n",
    "bob = Receiver()\n",
    "eve = Receiver()\n",
    "\n",
    "lossfn = nn.BCELoss()\n",
    "lossfn2 = nn.BCELoss()\n",
    "\n",
    "opt = torch.optim.Adam(alice.parameters(), lr=0.1)\n",
    "# %%"
   ]
  },
  {
   "cell_type": "code",
   "execution_count": null,
   "metadata": {},
   "outputs": [],
   "source": [
    "fig = plt.figure()\n",
    "ax1 = fig.add_subplot(1,1,1)\n",
    "\n",
    "def animate(_):\n",
    "  layers = [x for x in alice.parameters()]\n",
    "  xloss = bob_reconst_loss\n",
    "  ax1.clear()\n",
    "  ax1.plot(xloss.detach())\n",
    "  # for i in range(int(len(layers)/2)):\n",
    "  #   ax1.plot(layers[i * 2].detach()[0], '.')\n",
    "\n",
    "ani = animation.FuncAnimation(fig, animate, interval=100)\n",
    "plt.show()\n",
    "\n",
    "# from torch.utils.tensorboard import SummaryWriter\n",
    "\n",
    "# # default `log_dir` is \"runs\" - we'll be more specific here\n",
    "# writer = SummaryWriter('runs/experiment_1')\n",
    "\n",
    "\n",
    "for P in PLAIN:\n",
    "  P = torch.Tensor(P)\n",
    "\n",
    "  cipher = alice(P).unsqueeze(dim=0)\n",
    "  Pb = bob(cipher)\n",
    "  Pe = eve(cipher)\n",
    "\n",
    "  bob_reconst_loss = lossfn(Pb, P)\n",
    "  eve_reconst_loss = lossfn(Pe, P)\n",
    "\n",
    "  alice_loss = bob_reconst_loss - eve_reconst_loss\n",
    "\n",
    "  alice_loss.backward(retain_graph=True)\n",
    "  bob_reconst_loss.backward(retain_graph=True)\n",
    "  eve_reconst_loss.backward(retain_graph=True)\n",
    "\n",
    "  # ...log the running loss\n",
    "  # writer.add_scalar('training loss',\n",
    "  #   running_loss / 1000,\n",
    "  #   epoch * len(trainloader) + i)\n",
    "\n",
    "  # # ...log a Matplotlib Figure showing the model's predictions on a\n",
    "  # # random mini-batch\n",
    "  # writer.add_figure('predictions vs. actuals',\n",
    "  #                 plot_classes_preds(alice, inputs, labels),\n",
    "  #                 global_step=epoch * len(trainloader) + i)\n",
    "  # running_loss = 0.0\n",
    "\n",
    "\n",
    "  opt.step()\n",
    "\n",
    "print('Finished Training') \n",
    "# %%"
   ]
  }
 ],
 "metadata": {
  "kernelspec": {
   "display_name": "Python 3",
   "language": "python",
   "name": "python3"
  },
  "language_info": {
   "codemirror_mode": {
    "name": "ipython",
    "version": 3
   },
   "file_extension": ".py",
   "mimetype": "text/x-python",
   "name": "python",
   "nbconvert_exporter": "python",
   "pygments_lexer": "ipython3",
   "version": "3.6.0"
  }
 },
 "nbformat": 4,
 "nbformat_minor": 4
}
